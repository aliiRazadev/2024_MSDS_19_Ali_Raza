{
 "cells": [
  {
   "cell_type": "markdown",
   "metadata": {},
   "source": [
    "1. Loading Libraries "
   ]
  },
  {
   "cell_type": "code",
   "execution_count": 1,
   "metadata": {},
   "outputs": [],
   "source": [
    "import pandas as pd\n",
    "import matplotlib.pyplot as plt\n",
    "import seaborn as sns"
   ]
  },
  {
   "cell_type": "markdown",
   "metadata": {},
   "source": [
    "2. Loading Dataset"
   ]
  },
  {
   "cell_type": "code",
   "execution_count": null,
   "metadata": {},
   "outputs": [],
   "source": [
    "df = pd.read_csv(\"emissions.csv\")\n",
    "df.head()"
   ]
  },
  {
   "cell_type": "markdown",
   "metadata": {},
   "source": [
    "3. Data Wrangling"
   ]
  },
  {
   "cell_type": "code",
   "execution_count": null,
   "metadata": {},
   "outputs": [],
   "source": [
    "df.isnull().sum()"
   ]
  },
  {
   "cell_type": "code",
   "execution_count": null,
   "metadata": {},
   "outputs": [],
   "source": [
    "# Checking outliers in the \"value\" column using interquartile range (IQR)\n",
    "Q1 = df['value'].quantile(0.25)\n",
    "Q3 = df['value'].quantile(0.75)\n",
    "IQR = Q3 - Q1\n",
    "lower_bound = Q1 - 1.5 * IQR\n",
    "upper_bound = Q3 + 1.5 * IQR\n",
    "\n",
    "# Filter the DataFrame to remove outliers\n",
    "cleaned_data = df[(df['value'] >= lower_bound) & (df['value'] <= upper_bound)].copy()\n",
    "\n",
    "# Convert \"year\" to datetime format\n",
    "cleaned_data.loc[:, 'year'] = pd.to_datetime(cleaned_data['year'], format='%Y')\n",
    "\n",
    "# Verify the cleaned dataset\n",
    "info = cleaned_data.info()\n",
    "description = cleaned_data.describe()\n",
    "\n",
    "(info, description)\n"
   ]
  },
  {
   "cell_type": "markdown",
   "metadata": {},
   "source": [
    "4. EDA"
   ]
  },
  {
   "cell_type": "code",
   "execution_count": null,
   "metadata": {},
   "outputs": [],
   "source": [
    "sns.set(style=\"whitegrid\")\n",
    "# 1. Total emissions trend over time\n",
    "total_emissions = cleaned_data.groupby('year')['value'].sum()\n",
    "plt.figure(figsize=(8, 4))\n",
    "sns.lineplot(x=total_emissions.index, y=total_emissions.values, marker='o', color='blue')\n",
    "plt.title(\"Total Carbon Dioxide Emissions Over Time\", fontsize=16)\n",
    "plt.xlabel(\"Year\", fontsize=12)\n",
    "plt.ylabel(\"Total Emissions (Million Metric Tons)\", fontsize=12)\n",
    "plt.xticks(rotation=45)\n",
    "plt.yticks(rotation=45)\n",
    "plt.show()\n"
   ]
  },
  {
   "cell_type": "code",
   "execution_count": null,
   "metadata": {},
   "outputs": [],
   "source": [
    "# Top 5 states with highest total emissions\n",
    "top_states = cleaned_data.groupby('state-name')['value'].sum().sort_values(ascending=False).head(5)\n",
    "\n",
    "plt.figure(figsize=(8, 4))\n",
    "\n",
    "# Use palette without specifying hue\n",
    "sns.barplot(x=top_states.index, y=top_states.values, palette='viridis')\n",
    "\n",
    "plt.title(\"Top 5 States by Total Emissions\", fontsize=16)\n",
    "plt.xlabel(\"State\", fontsize=12)\n",
    "plt.ylabel(\"Total Emissions (Million Metric Tons)\", fontsize=12)\n",
    "plt.show()\n"
   ]
  },
  {
   "cell_type": "code",
   "execution_count": null,
   "metadata": {},
   "outputs": [],
   "source": [
    "# Sector contributions for the top-emitting state\n",
    "top_state = top_states.index[0]\n",
    "state_sector = cleaned_data[cleaned_data['state-name'] == top_state].groupby('sector-name')['value'].sum()\n",
    "plt.figure(figsize=(8, 4))\n",
    "sns.barplot(x=state_sector.index, y=state_sector.values, palette='magma')\n",
    "plt.title(f\"Sector Contributions in {top_state}\", fontsize=16)\n",
    "plt.xlabel(\"Sector\", fontsize=12)\n",
    "plt.ylabel(\"Total Emissions (Million Metric Tons)\", fontsize=12)\n",
    "plt.xticks(rotation=45)\n",
    "plt.show()"
   ]
  },
  {
   "cell_type": "code",
   "execution_count": null,
   "metadata": {},
   "outputs": [],
   "source": [
    "# Fuel type contributions across all states\n",
    "fuel_contributions = cleaned_data.groupby('fuel-name')['value'].sum()\n",
    "plt.figure(figsize=(8, 4))\n",
    "sns.barplot(x=fuel_contributions.index, y=fuel_contributions.values, palette='coolwarm')\n",
    "plt.title(\"Emissions by Fuel Type\", fontsize=16)\n",
    "plt.xlabel(\"Fuel Type\", fontsize=12)\n",
    "plt.ylabel(\"Total Emissions (Million Metric Tons)\", fontsize=12)\n",
    "plt.show()"
   ]
  },
  {
   "cell_type": "markdown",
   "metadata": {},
   "source": [
    "5. Predictive Model"
   ]
  },
  {
   "cell_type": "code",
   "execution_count": null,
   "metadata": {},
   "outputs": [],
   "source": [
    "from sklearn.model_selection import train_test_split\n",
    "from sklearn.ensemble import RandomForestRegressor\n",
    "from sklearn.metrics import mean_squared_error, r2_score, mean_absolute_error\n",
    "\n",
    "# Encode categorical variables using one-hot encoding\n",
    "encoded_data = pd.get_dummies(cleaned_data, columns=['state-name', 'sector-name', 'fuel-name'], drop_first=True)\n",
    "\n",
    "# Features (X) and target (y)\n",
    "X = encoded_data.drop(['value', 'year'], axis=1)\n",
    "y = encoded_data['value']\n",
    "\n",
    "# Train-test split\n",
    "X_train, X_test, y_train, y_test = train_test_split(X, y, test_size=0.2, random_state=42)\n",
    "\n",
    "# Build a Random Forest Regressor model\n",
    "model = RandomForestRegressor(n_estimators=100, random_state=42)\n",
    "model.fit(X_train, y_train)\n",
    "\n",
    "# Predict on test data\n",
    "y_pred = model.predict(X_test)\n",
    "\n",
    "# Evaluate the model\n",
    "rmse = mean_squared_error(y_test, y_pred, squared=False)\n",
    "mae = mean_absolute_error(y_test, y_pred)\n",
    "r2 = r2_score(y_test, y_pred)\n",
    "\n",
    "rmse, mae, r2\n"
   ]
  }
 ],
 "metadata": {
  "kernelspec": {
   "display_name": "Python 3",
   "language": "python",
   "name": "python3"
  },
  "language_info": {
   "codemirror_mode": {
    "name": "ipython",
    "version": 3
   },
   "file_extension": ".py",
   "mimetype": "text/x-python",
   "name": "python",
   "nbconvert_exporter": "python",
   "pygments_lexer": "ipython3",
   "version": "3.13.0"
  }
 },
 "nbformat": 4,
 "nbformat_minor": 2
}
